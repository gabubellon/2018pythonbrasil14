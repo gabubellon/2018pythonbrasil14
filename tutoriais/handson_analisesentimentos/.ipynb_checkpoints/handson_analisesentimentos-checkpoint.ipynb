{
 "cells": [
  {
   "cell_type": "markdown",
   "metadata": {},
   "source": [
    "## Hands on Análise de Sentimentos \n",
    "#### Betina Costa"
   ]
  },
  {
   "cell_type": "markdown",
   "metadata": {},
   "source": [
    "Verifique se você está com as librarys instaladas (vide requirements.txt)"
   ]
  },
  {
   "cell_type": "markdown",
   "metadata": {},
   "source": [
    "https://github.com/betinacosta/handson-sentiment-analysis/blob/master/README.md"
   ]
  },
  {
   "cell_type": "code",
   "execution_count": 74,
   "metadata": {},
   "outputs": [],
   "source": [
    "import tweepy\n",
    "import numpy as np\n",
    "import json\n",
    "from textblob import TextBlob"
   ]
  },
  {
   "cell_type": "code",
   "execution_count": 75,
   "metadata": {},
   "outputs": [],
   "source": [
    "keyfile = json.loads(open('twitter.key',\"r\").read())"
   ]
  },
  {
   "cell_type": "code",
   "execution_count": 76,
   "metadata": {},
   "outputs": [],
   "source": [
    "consumer_key=keyfile['TWITTER_API_KEY']\n",
    "consumer_secret=keyfile['TWITTER_API_SECRET_KEY']\n",
    "\n",
    "access_token=keyfile['TWITTER_ACCESS_TOKEN']\n",
    "access_token_secret=keyfile['TWITTER_SECRET_ACCESS_TOKEN']\n",
    "api = tweepy.API(auth)"
   ]
  },
  {
   "cell_type": "code",
   "execution_count": 77,
   "metadata": {},
   "outputs": [],
   "source": [
    "def is_english(text):\n",
    "    if text.detect_language() == 'en':\n",
    "        return True\n",
    "    return False"
   ]
  },
  {
   "cell_type": "code",
   "execution_count": null,
   "metadata": {},
   "outputs": [],
   "source": [
    "def tweet_analysis(query):\n",
    "    tweets = tweepy.Cursor(api.search, q=query + \" -filter:retweets\").items(20)\n",
    "\n",
    "    subjectivities = []\n",
    "    polarities = []\n",
    "\n",
    "    for tweet in tweets:\n",
    "        phrase = TextBlob(tweet.text)\n",
    "\n",
    "        if not is_english(phrase):\n",
    "            phrase = TextBlob(str(phrase.translate(to='en')))\n",
    "\n",
    "        if phrase.sentiment.polarity != 0.0 and phrase.sentiment.subjectivity != 0.0:\n",
    "            polarities.append(phrase.sentiment.polarity)\n",
    "            subjectivities.append(phrase.sentiment.subjectivity)\n",
    "\n",
    "        print('Tweet: ' + tweet.text)\n",
    "        print('Polarity: ' + str(phrase.sentiment.polarity) + \" \\ \" + str(phrase.sentiment.subjectivity))\n",
    "        print('.....................')\n",
    "\n",
    "    return {'polarity':polarities, 'subjectivity':subjectivities}"
   ]
  },
  {
   "cell_type": "code",
   "execution_count": null,
   "metadata": {},
   "outputs": [],
   "source": [
    "def get_weighted_polarity_mean(valid_tweets):\n",
    "    return np.average(valid_tweets['polarity'],weights=valid_tweets['subjectivity'])"
   ]
  },
  {
   "cell_type": "code",
   "execution_count": null,
   "metadata": {},
   "outputs": [],
   "source": [
    "def get_polarity_mean(valid_tweets):\n",
    "    return np.mean(valid_tweets['polarity'])"
   ]
  },
  {
   "cell_type": "code",
   "execution_count": null,
   "metadata": {},
   "outputs": [],
   "source": [
    "def print_result(mean):\n",
    "    if mean > 0.0:\n",
    "        print('POSITIVE')\n",
    "    elif mean == 0.0:\n",
    "        print('NEUTRO')\n",
    "    else:\n",
    "        print('NEGATIVE')"
   ]
  },
  {
   "cell_type": "code",
   "execution_count": null,
   "metadata": {},
   "outputs": [],
   "source": [
    "if __name__ == \"__main__\":\n",
    "    query = input(\"Entre a query de analise: \")\n",
    "    analysis = tweet_analysis(query)\n",
    "\n",
    "    print('MÉDIA PONDERADA: ' + str(get_weighted_polarity_mean(analysis)))\n",
    "    print_result(get_weighted_polarity_mean(analysis))\n",
    "\n",
    "    print('MÉDIA: ' + str(get_polarity_mean(analysis)))\n",
    "    print_result(get_polarity_mean(analysis))"
   ]
  }
 ],
 "metadata": {
  "kernelspec": {
   "display_name": "pybr3.6",
   "language": "python",
   "name": "pybr3.6"
  },
  "language_info": {
   "codemirror_mode": {
    "name": "ipython",
    "version": 3
   },
   "file_extension": ".py",
   "mimetype": "text/x-python",
   "name": "python",
   "nbconvert_exporter": "python",
   "pygments_lexer": "ipython3",
   "version": "3.6.6"
  }
 },
 "nbformat": 4,
 "nbformat_minor": 2
}
