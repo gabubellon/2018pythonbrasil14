{
 "cells": [
  {
   "cell_type": "markdown",
   "metadata": {},
   "source": [
    "## Hands on Análise de Sentimentos \n",
    "#### Betina Costa"
   ]
  },
  {
   "cell_type": "markdown",
   "metadata": {},
   "source": [
    "Verifique se você está com as librarys instaladas (vide requirements.txt)"
   ]
  },
  {
   "cell_type": "markdown",
   "metadata": {},
   "source": [
    "https://github.com/betinacosta/handson-sentiment-analysis/blob/master/README.md"
   ]
  },
  {
   "cell_type": "code",
   "execution_count": 1,
   "metadata": {},
   "outputs": [],
   "source": [
    "import tweepy\n",
    "import numpy as np\n",
    "import json\n",
    "from textblob import TextBlob"
   ]
  },
  {
   "cell_type": "code",
   "execution_count": 2,
   "metadata": {},
   "outputs": [],
   "source": [
    "keyfile = json.loads(open('twitter.key',\"r\").read())"
   ]
  },
  {
   "cell_type": "code",
   "execution_count": 4,
   "metadata": {},
   "outputs": [],
   "source": [
    "consumer_key=keyfile['TWITTER_API_KEY']\n",
    "consumer_secret=keyfile['TWITTER_API_SECRET_KEY']\n",
    "\n",
    "access_token=keyfile['TWITTER_ACCESS_TOKEN']\n",
    "access_token_secret=keyfile['TWITTER_SECRET_ACCESS_TOKEN']\n",
    "auth = tweepy.OAuthHandler(consumer_key,consumer_secret)\n",
    "auth.set_access_token(access_token,access_token_secret)\n",
    "api = tweepy.API(auth)"
   ]
  },
  {
   "cell_type": "code",
   "execution_count": 5,
   "metadata": {},
   "outputs": [],
   "source": [
    "def is_english(text):\n",
    "    if text.detect_language() == 'en':\n",
    "        return True\n",
    "    return False"
   ]
  },
  {
   "cell_type": "code",
   "execution_count": 6,
   "metadata": {},
   "outputs": [],
   "source": [
    "def tweet_analysis(query):\n",
    "    tweets = tweepy.Cursor(api.search, q=query + \" -filter:retweets\").items(20)\n",
    "\n",
    "    subjectivities = []\n",
    "    polarities = []\n",
    "\n",
    "    for tweet in tweets:\n",
    "        phrase = TextBlob(tweet.text)\n",
    "\n",
    "        if not is_english(phrase):\n",
    "            phrase = TextBlob(str(phrase.translate(to='en')))\n",
    "\n",
    "        if phrase.sentiment.polarity != 0.0 and phrase.sentiment.subjectivity != 0.0:\n",
    "            polarities.append(phrase.sentiment.polarity)\n",
    "            subjectivities.append(phrase.sentiment.subjectivity)\n",
    "\n",
    "        print('Tweet: ' + tweet.text)\n",
    "        print('Polarity: ' + str(phrase.sentiment.polarity) + \" \\ \" + str(phrase.sentiment.subjectivity))\n",
    "        print('.....................')\n",
    "\n",
    "    return {'polarity':polarities, 'subjectivity':subjectivities}"
   ]
  },
  {
   "cell_type": "code",
   "execution_count": 7,
   "metadata": {},
   "outputs": [],
   "source": [
    "def get_weighted_polarity_mean(valid_tweets):\n",
    "    return np.average(valid_tweets['polarity'],weights=valid_tweets['subjectivity'])"
   ]
  },
  {
   "cell_type": "code",
   "execution_count": 8,
   "metadata": {},
   "outputs": [],
   "source": [
    "def get_polarity_mean(valid_tweets):\n",
    "    return np.mean(valid_tweets['polarity'])"
   ]
  },
  {
   "cell_type": "code",
   "execution_count": 9,
   "metadata": {},
   "outputs": [],
   "source": [
    "def print_result(mean):\n",
    "    if mean > 0.0:\n",
    "        print('POSITIVE')\n",
    "    elif mean == 0.0:\n",
    "        print('NEUTRO')\n",
    "    else:\n",
    "        print('NEGATIVE')"
   ]
  },
  {
   "cell_type": "code",
   "execution_count": 10,
   "metadata": {},
   "outputs": [
    {
     "name": "stdout",
     "output_type": "stream",
     "text": [
      "Entre a query de analise: Trump\n",
      "Tweet: Trump is definitely not done winning. https://t.co/hQg2MTXJTE\n",
      "Polarity: 0.25 \\ 0.625\n",
      ".....................\n",
      "Tweet: @mlcalderone @GlennKesslerWP If the press tried to behave how they do at the White House while at a trump rally, th… https://t.co/3tcFkhW5Su\n",
      "Polarity: 0.0 \\ 0.0\n",
      ".....................\n",
      "Tweet: @GeraldoRivera @realDonaldTrump @MichaelAvenatti I agree,  and I love Trump but even though she is a skank why sink… https://t.co/OCHexTjQUq\n",
      "Polarity: 0.5 \\ 0.6\n",
      ".....................\n",
      "Tweet: Stormy Daniels tried to sue, mock, denigrate, and destroy President Trump.  She was the media’s little darling.\n",
      "\n",
      "Pr… https://t.co/BRGi2WD1ho\n",
      "Polarity: -0.19375 \\ 0.25\n",
      ".....................\n",
      "Tweet: @junior34123 @VEJA Espero que BOLSONARO não emite este RIDÍCULO, PATÉTICO, presidente DONALD TRUMP, reconhecer a po… https://t.co/sKNIL42OcM\n",
      "Polarity: -0.6666666666666666 \\ 1.0\n",
      ".....................\n",
      "Tweet: Let's see what Trump has to say about this?\n",
      "https://t.co/TOwGyMYjav\n",
      "Polarity: 0.0 \\ 0.0\n",
      ".....................\n",
      "Tweet: @JulianVentura7 @karringtonsc @POTUS @HillaryClinton Democrat President Barack Obama; \"He (Trump) just says, 'I'm g… https://t.co/dBo1Hg8Cnt\n",
      "Polarity: 0.0 \\ 0.0\n",
      ".....................\n",
      "Tweet: Trump advierte a Honduras que frene caravana de migrantes hacia EEUU https://t.co/Kk4AbKne9f https://t.co/MFbgo9ipTp\n",
      "Polarity: 0.0 \\ 0.0\n",
      ".....................\n",
      "Tweet: @SJBSchu @nursevictoria11 I wish it would gobble Trump up\n",
      "Polarity: 0.0 \\ 0.0\n",
      ".....................\n",
      "Tweet: “When Trump perceives that his own interests are threatened, he will say pretty much anything, regardless of how ou… https://t.co/Pp1Yl6s2GU\n",
      "Polarity: 0.35000000000000003 \\ 0.7333333333333334\n",
      ".....................\n",
      "Tweet: Principal closes college for staff and students to march on Westminster https://t.co/FdbRnlMvF7\n",
      "Polarity: 0.0 \\ 0.0\n",
      ".....................\n",
      "Tweet: Trump has just told UK “it must dump food standards for Brexit trade deal”.\n",
      "\n",
      "Enjoy the ride Leavers this includes f… https://t.co/7aUmScndlg\n",
      "Polarity: 0.4 \\ 0.5\n",
      ".....................\n",
      "Tweet: I still wonder if @realDonaldTrump ever understood why it might be a bad idea to use nuclear weapons...He asked why… https://t.co/3xaU6M2e4p\n",
      "Polarity: -0.6999999999999998 \\ 0.6666666666666666\n",
      ".....................\n",
      "Tweet: MENTAL ILLNESS at its worst, left untreated is detrimental.\n",
      "“Kanye West Calls Donald Trump A Father Figure Who Make… https://t.co/m0qgiqCTvB\n",
      "Polarity: -0.3666666666666667 \\ 0.39999999999999997\n",
      ".....................\n",
      "Tweet: Ex-Republican lawmaker: I left GOP over Trump ‘flirtations with misogyny' and 'race-baiting’ - The Hill https://t.co/HbbGdEDiMB\n",
      "Polarity: 0.0 \\ 0.0\n",
      ".....................\n",
      "Tweet: @markknoller @Andrews_JBA @TJUHospital She’s the best ! Trump for 8\n",
      "Polarity: 1.0 \\ 0.3\n",
      ".....................\n",
      "Tweet: You know maybe putting Psychopaths and Sociopaths as leaders is a bad idea? Photos of suspect with prince defy Trum… https://t.co/cfk67FVzRg\n",
      "Polarity: -0.6999999999999998 \\ 0.6666666666666666\n",
      ".....................\n",
      "Tweet: Trump defends Saudi Arabia as accusations mount over journalist disappearance - CNN https://t.co/UnhiX156cy via… https://t.co/oqaeOGMEkq\n",
      "Polarity: 0.0 \\ 0.0\n",
      ".....................\n",
      "Tweet: I AGREE! How many citizens does it take to make this happen?    Mika Brzezinski evokes 25th Amendment to oust Trump… https://t.co/0MkYjuydqv\n",
      "Polarity: 0.5 \\ 0.5\n",
      ".....................\n",
      "Tweet: Atentado terrorista en Crimea (al menos 13 muertos) y la Sexta que sólo tiene ojos para Cataluña y Trump. Asco.\n",
      "Polarity: -0.16666666666666666 \\ 0.6\n",
      ".....................\n",
      "MÉDIA PONDERADA: -0.06316991473812421\n",
      "NEGATIVE\n",
      "MÉDIA: 0.01718750000000004\n",
      "POSITIVE\n"
     ]
    }
   ],
   "source": [
    "if __name__ == \"__main__\":\n",
    "    query = input(\"Entre a query de analise: \")\n",
    "    analysis = tweet_analysis(query)\n",
    "\n",
    "    print('MÉDIA PONDERADA: ' + str(get_weighted_polarity_mean(analysis)))\n",
    "    print_result(get_weighted_polarity_mean(analysis))\n",
    "\n",
    "    print('MÉDIA: ' + str(get_polarity_mean(analysis)))\n",
    "    print_result(get_polarity_mean(analysis))"
   ]
  },
  {
   "cell_type": "code",
   "execution_count": null,
   "metadata": {},
   "outputs": [],
   "source": []
  }
 ],
 "metadata": {
  "kernelspec": {
   "display_name": "pybr3.6",
   "language": "python",
   "name": "pybr3.6"
  }
 },
 "nbformat": 4,
 "nbformat_minor": 2
}
