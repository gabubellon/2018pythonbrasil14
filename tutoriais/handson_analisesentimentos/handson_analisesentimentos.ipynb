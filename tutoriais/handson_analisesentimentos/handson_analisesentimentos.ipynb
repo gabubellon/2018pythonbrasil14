{
 "cells": [
  {
   "cell_type": "markdown",
   "metadata": {},
   "source": [
    "## Hands on Análise de Sentimentos \n",
    "#### Betina Costa"
   ]
  },
  {
   "cell_type": "markdown",
   "metadata": {},
   "source": [
    "Verifique se você está com as librarys instaladas (vide requirements.txt)"
   ]
  },
  {
   "cell_type": "markdown",
   "metadata": {},
   "source": [
    "https://github.com/betinacosta/handson-sentiment-analysis/blob/master/README.md"
   ]
  },
  {
   "cell_type": "code",
   "execution_count": 43,
   "metadata": {},
   "outputs": [],
   "source": [
    "import tweepy\n",
    "import numpy as np\n",
    "import json\n",
    "from textblob import TextBlob\n",
    "import pandas as pd"
   ]
  },
  {
   "cell_type": "code",
   "execution_count": 44,
   "metadata": {},
   "outputs": [],
   "source": [
    "def twitter_api(key_file):\n",
    "    keys = json.loads(open(key_file,\"r\").read())\n",
    "    consumer_key=keys['TWITTER_API_KEY']\n",
    "    consumer_secret=keys['TWITTER_API_SECRET_KEY']\n",
    "\n",
    "    access_token=keys['TWITTER_ACCESS_TOKEN']\n",
    "    access_token_secret=keys['TWITTER_SECRET_ACCESS_TOKEN']\n",
    "    auth = tweepy.OAuthHandler(consumer_key,consumer_secret)\n",
    "    auth.set_access_token(access_token,access_token_secret)\n",
    "    api = tweepy.API(auth)\n",
    "    return api"
   ]
  },
  {
   "cell_type": "code",
   "execution_count": 45,
   "metadata": {},
   "outputs": [],
   "source": [
    "def is_english(text):\n",
    "    if text.detect_language() == 'en':\n",
    "        return True\n",
    "    return False"
   ]
  },
  {
   "cell_type": "code",
   "execution_count": 46,
   "metadata": {},
   "outputs": [],
   "source": [
    "def get_weighted_polarity_mean(valid_tweets):\n",
    "    return np.average(valid_tweets['polarity'],weights=valid_tweets['subjectivity'])"
   ]
  },
  {
   "cell_type": "code",
   "execution_count": 47,
   "metadata": {},
   "outputs": [],
   "source": [
    "def get_polarity_mean(valid_tweets):\n",
    "    return np.mean(valid_tweets['polarity'])"
   ]
  },
  {
   "cell_type": "code",
   "execution_count": 48,
   "metadata": {},
   "outputs": [],
   "source": [
    "def tweet_analysis(query,items,api):\n",
    "    \n",
    "    cols = ['created_at','id_str','text','user_id_str','polarity','subjectivity'] \n",
    "    df = pd.DataFrame(columns=cols)\n",
    "    \n",
    "    tweets = tweepy.Cursor(api.search, q=query + \" -filter:retweets\").items(items)\n",
    "    subjectivities = []\n",
    "    polarities = []\n",
    "    \n",
    "    for tweet in tweets:\n",
    "        phrase = TextBlob(tweet.text)\n",
    "        #import pdb;pdb.set_trace()\n",
    "        \n",
    "        if not is_english(phrase):\n",
    "            phrase = TextBlob(str(phrase.translate(to='en')))\n",
    "\n",
    "        if phrase.sentiment.polarity != 0.0 and phrase.sentiment.subjectivity != 0.0:\n",
    "            polarities.append(phrase.sentiment.polarity)\n",
    "            subjectivities.append(phrase.sentiment.subjectivity)\n",
    "            \n",
    "        tweet_list = [  tweet._json['created_at'],\n",
    "                        tweet._json['id_str'],\n",
    "                        tweet._json['text'],\n",
    "                        tweet._json['user']['id_str'],\n",
    "                        phrase.sentiment.polarity,\n",
    "                        phrase.sentiment.subjectivity\n",
    "                     ]\n",
    "        tweet_list = dict(zip(df.columns, tweet_list))\n",
    "        df = df.append(tweet_list, ignore_index=True)\n",
    "\n",
    "    df['created_at'] = pd.to_datetime(df['created_at'])\n",
    "    df['weighted_polarity_mean'] = get_weighted_polarity_mean(df)\n",
    "    df['polarity_mean'] = get_polarity_mean(df)\n",
    "    \n",
    "    #df['ressult_mean'] = 'Positive' if df['polarity_mean'] > 0.0 else 'False'\n",
    "    #df['result_weighted'] = 'Positive' if df['weighted_polarity_mean'] > 0.0 else 'False'\n",
    "    \n",
    "    return df"
   ]
  },
  {
   "cell_type": "code",
   "execution_count": 49,
   "metadata": {},
   "outputs": [],
   "source": [
    "def print_result(mean):\n",
    "    if mean > 0.0:\n",
    "        print('POSITIVE')\n",
    "    elif mean == 0.0:\n",
    "        print('NEUTRO')\n",
    "    else:\n",
    "        print('NEGATIVE')"
   ]
  },
  {
   "cell_type": "code",
   "execution_count": 54,
   "metadata": {},
   "outputs": [
    {
     "name": "stdout",
     "output_type": "stream",
     "text": [
      "Entre a query de analise: Brasil\n",
      "Entre a qtd de analise: 10\n"
     ]
    }
   ],
   "source": [
    "if __name__ == \"__main__\":\n",
    "    query = input(\"Entre a query de analise: \")\n",
    "    items = int(input(\"Entre a qtd de analise: \"))\n",
    "    analysis = tweet_analysis(query,items,twitter_api('twitter.key'))"
   ]
  },
  {
   "cell_type": "code",
   "execution_count": 55,
   "metadata": {},
   "outputs": [
    {
     "data": {
      "text/html": [
       "<div>\n",
       "<style scoped>\n",
       "    .dataframe tbody tr th:only-of-type {\n",
       "        vertical-align: middle;\n",
       "    }\n",
       "\n",
       "    .dataframe tbody tr th {\n",
       "        vertical-align: top;\n",
       "    }\n",
       "\n",
       "    .dataframe thead th {\n",
       "        text-align: right;\n",
       "    }\n",
       "</style>\n",
       "<table border=\"1\" class=\"dataframe\">\n",
       "  <thead>\n",
       "    <tr style=\"text-align: right;\">\n",
       "      <th></th>\n",
       "      <th>created_at</th>\n",
       "      <th>id_str</th>\n",
       "      <th>text</th>\n",
       "      <th>user_id_str</th>\n",
       "      <th>polarity</th>\n",
       "      <th>subjectivity</th>\n",
       "      <th>weighted_polarity_mean</th>\n",
       "      <th>polarity_mean</th>\n",
       "    </tr>\n",
       "  </thead>\n",
       "  <tbody>\n",
       "    <tr>\n",
       "      <th>5</th>\n",
       "      <td>2018-10-17 14:40:13</td>\n",
       "      <td>1052569981173395458</td>\n",
       "      <td>Bolsonaro quebra resistência das Forças Armada...</td>\n",
       "      <td>15249841</td>\n",
       "      <td>0.0</td>\n",
       "      <td>0.0</td>\n",
       "      <td>0.420283</td>\n",
       "      <td>0.083929</td>\n",
       "    </tr>\n",
       "    <tr>\n",
       "      <th>9</th>\n",
       "      <td>2018-10-17 14:40:11</td>\n",
       "      <td>1052569969551204357</td>\n",
       "      <td>Se alguem for procurar algum psicólogo da\\nAss...</td>\n",
       "      <td>1020341268558336001</td>\n",
       "      <td>0.0</td>\n",
       "      <td>0.0</td>\n",
       "      <td>0.420283</td>\n",
       "      <td>0.083929</td>\n",
       "    </tr>\n",
       "  </tbody>\n",
       "</table>\n",
       "</div>"
      ],
      "text/plain": [
       "           created_at               id_str  \\\n",
       "5 2018-10-17 14:40:13  1052569981173395458   \n",
       "9 2018-10-17 14:40:11  1052569969551204357   \n",
       "\n",
       "                                                text          user_id_str  \\\n",
       "5  Bolsonaro quebra resistência das Forças Armada...             15249841   \n",
       "9  Se alguem for procurar algum psicólogo da\\nAss...  1020341268558336001   \n",
       "\n",
       "   polarity  subjectivity  weighted_polarity_mean  polarity_mean  \n",
       "5       0.0           0.0                0.420283       0.083929  \n",
       "9       0.0           0.0                0.420283       0.083929  "
      ]
     },
     "execution_count": 55,
     "metadata": {},
     "output_type": "execute_result"
    }
   ],
   "source": [
    "analysis.sample(2)"
   ]
  },
  {
   "cell_type": "code",
   "execution_count": null,
   "metadata": {},
   "outputs": [],
   "source": []
  }
 ],
 "metadata": {
  "kernelspec": {
   "display_name": "pybr3.6",
   "language": "python",
   "name": "pybr3.6"
  },
  "language_info": {
   "codemirror_mode": {
    "name": "ipython",
    "version": 3
   },
   "file_extension": ".py",
   "mimetype": "text/x-python",
   "name": "python",
   "nbconvert_exporter": "python",
   "pygments_lexer": "ipython3",
   "version": "3.6.6"
  }
 },
 "nbformat": 4,
 "nbformat_minor": 2
}
