{
 "cells": [
  {
   "cell_type": "markdown",
   "metadata": {},
   "source": [
    "### Pensamento Computacional Python:\n",
    "### Uma abordagem de ensinop-aprendizagem de programação\n",
    "\n",
    "#### Lidiane Monteiro"
   ]
  },
  {
   "cell_type": "code",
   "execution_count": 107,
   "metadata": {},
   "outputs": [],
   "source": [
    "word = 'python'"
   ]
  },
  {
   "cell_type": "markdown",
   "metadata": {},
   "source": [
    "**For clássico**"
   ]
  },
  {
   "cell_type": "code",
   "execution_count": 108,
   "metadata": {},
   "outputs": [
    {
     "name": "stdout",
     "output_type": "stream",
     "text": [
      "nohtyp\n"
     ]
    }
   ],
   "source": [
    "reverse = ''\n",
    "for pos in reversed(range(len(word))):\n",
    "    reverse+=string[pos]\n",
    "print(reverse)"
   ]
  },
  {
   "cell_type": "markdown",
   "metadata": {},
   "source": [
    "**Revese na palavara**"
   ]
  },
  {
   "cell_type": "code",
   "execution_count": 109,
   "metadata": {},
   "outputs": [
    {
     "name": "stdout",
     "output_type": "stream",
     "text": [
      "nohtyp\n"
     ]
    }
   ],
   "source": [
    "reverse=''\n",
    "for pos in reversed(word):\n",
    "    reverse+=pos\n",
    "print(reverse)"
   ]
  },
  {
   "cell_type": "markdown",
   "metadata": {},
   "source": [
    "**List Join**"
   ]
  },
  {
   "cell_type": "code",
   "execution_count": 110,
   "metadata": {},
   "outputs": [
    {
     "name": "stdout",
     "output_type": "stream",
     "text": [
      "nohtyp\n"
     ]
    }
   ],
   "source": [
    "reverse = ''.join(list(reversed(word)))\n",
    "print(reverse)"
   ]
  },
  {
   "cell_type": "markdown",
   "metadata": {},
   "source": [
    "**Posição na Lista**"
   ]
  },
  {
   "cell_type": "code",
   "execution_count": 111,
   "metadata": {},
   "outputs": [
    {
     "name": "stdout",
     "output_type": "stream",
     "text": [
      "nohtyp\n"
     ]
    }
   ],
   "source": [
    "reverse = word[::-1]\n",
    "print(reverse)"
   ]
  },
  {
   "cell_type": "markdown",
   "metadata": {},
   "source": [
    "**Em função**"
   ]
  },
  {
   "cell_type": "code",
   "execution_count": 114,
   "metadata": {},
   "outputs": [],
   "source": [
    "def reverse_word(word):\n",
    "    reversed_word = ''\n",
    "    for pos in reversed(range(len(word))):\n",
    "        reversed_word+=word[pos]\n",
    "    return reversed_word"
   ]
  },
  {
   "cell_type": "code",
   "execution_count": 115,
   "metadata": {},
   "outputs": [
    {
     "data": {
      "text/plain": [
       "'ogal o ama olag o'"
      ]
     },
     "execution_count": 115,
     "metadata": {},
     "output_type": "execute_result"
    }
   ],
   "source": [
    "reverse_word('o galo ama o lago')"
   ]
  },
  {
   "cell_type": "markdown",
   "metadata": {},
   "source": [
    "**Ordernação**"
   ]
  },
  {
   "cell_type": "code",
   "execution_count": 166,
   "metadata": {},
   "outputs": [
    {
     "data": {
      "text/plain": [
       "[5, 12, 3, 1, 7, 8, 15]"
      ]
     },
     "execution_count": 166,
     "metadata": {},
     "output_type": "execute_result"
    }
   ],
   "source": [
    "ordernar=[5,12,3,1,7,8,15]\n",
    "ordernar"
   ]
  },
  {
   "cell_type": "code",
   "execution_count": 171,
   "metadata": {},
   "outputs": [
    {
     "name": "stdout",
     "output_type": "stream",
     "text": [
      "[1, 12, 5, 7, 8, 12, 15]\n",
      "[1, 5, 12, 7, 8, 12, 15]\n",
      "[1, 5, 7, 12, 8, 12, 15]\n",
      "[1, 5, 7, 8, 12, 12, 15]\n",
      "[1, 5, 7, 8, 12, 12, 15]\n",
      "[1, 5, 7, 8, 12, 12, 15]\n",
      "[1, 5, 7, 8, 12, 12, 15]\n"
     ]
    }
   ],
   "source": [
    "for i in range(len(ordernar)):\n",
    "    for y in range(i,len(ordernar)):\n",
    "        if ordernar[i] > ordernar[y]:\n",
    "            new=ordernar[i]\n",
    "            ordernar[i]=ordernar[y]\n",
    "            ordernar[y]=new\n",
    "    print(ordernar)        "
   ]
  },
  {
   "cell_type": "code",
   "execution_count": 168,
   "metadata": {},
   "outputs": [],
   "source": [
    "ordernado = ordernar.sort()"
   ]
  },
  {
   "cell_type": "code",
   "execution_count": 169,
   "metadata": {},
   "outputs": [
    {
     "data": {
      "text/plain": [
       "[1, 3, 5, 7, 8, 12, 15]"
      ]
     },
     "execution_count": 169,
     "metadata": {},
     "output_type": "execute_result"
    }
   ],
   "source": [
    "ordernar"
   ]
  },
  {
   "cell_type": "code",
   "execution_count": 170,
   "metadata": {},
   "outputs": [],
   "source": [
    "ordernar[1] = 12"
   ]
  }
 ],
 "metadata": {
  "kernelspec": {
   "display_name": "pybr3.6",
   "language": "python",
   "name": "pybr3.6"
  },
  "language_info": {
   "codemirror_mode": {
    "name": "ipython",
    "version": 3
   },
   "file_extension": ".py",
   "mimetype": "text/x-python",
   "name": "python",
   "nbconvert_exporter": "python",
   "pygments_lexer": "ipython3",
   "version": "3.6.6"
  }
 },
 "nbformat": 4,
 "nbformat_minor": 2
}
